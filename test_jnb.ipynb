{
 "cells": [
  {
   "cell_type": "code",
   "execution_count": 1,
   "source": [
    "# Import packages\r\n",
    "import numpy as np\r\n",
    "import sys\r\n",
    "import cv2\r\n",
    "import os\r\n",
    "import argparse\r\n",
    "import ffmpeg\r\n",
    "from tqdm import tqdm"
   ],
   "outputs": [],
   "metadata": {}
  },
  {
   "cell_type": "code",
   "execution_count": 2,
   "source": [
    "directory = 'C:\\\\JA_test\\\\16_well'\r\n",
    "min_pad = 5\r\n",
    "min_well = 100\r\n",
    "max_well = 150\r\n",
    "examine_frame = 2000\r\n",
    "target_num_well = 16"
   ],
   "outputs": [],
   "metadata": {}
  },
  {
   "cell_type": "code",
   "execution_count": 3,
   "source": [
    "import numpy as np\r\n",
    "\r\n",
    "def order_coordinates(num_wells,circles):\r\n",
    "    well_order = np.arange(num_wells).reshape(int(np.sqrt(num_wells)),int(np.sqrt(num_wells)))\r\n",
    "    row_idx = np.argsort(circles[0][:,0])\r\n",
    "    sorted_row_coord = circles[0][row_idx]\r\n",
    "\r\n",
    "    col_idx = []\r\n",
    "    all_sorted_coord = np.zeros((num_wells,4))\r\n",
    "    for i, value in enumerate(np.arange(0,np.sqrt(num_wells))):  # Loops thru each row (0-3)\r\n",
    "        col_idx_temp = np.argsort(sorted_row_coord[well_order[i],1]) + i*np.sqrt(num_wells) # At that row, grab the x-values, and sorts them as an idx and adds row value \r\n",
    "        col_idx.append(col_idx_temp)\r\n",
    "    col_idx = np.reshape(col_idx,(1,num_wells))[0]\r\n",
    "    sorted_circles = sorted_row_coord[col_idx.astype(int)]\r\n",
    "\r\n",
    "    return sorted_circles"
   ],
   "outputs": [],
   "metadata": {}
  },
  {
   "cell_type": "code",
   "execution_count": null,
   "source": [
    "import numpy as np\r\n",
    "import ffmpeg\r\n",
    "import os\r\n",
    "\r\n",
    "def run_segmentation(file_list,file_num,all_coord,num_wells):\r\n",
    "    for well in np.arange(num_wells[file_num][0]):\r\n",
    "        print(f'Running Well: {well+1}')\r\n",
    "        try:\r\n",
    "            stream = ffmpeg.input(file_list[file_num])\r\n",
    "            stream = ffmpeg.filter(stream,'crop',\\\r\n",
    "                                   str(round(all_coord[file_num][well][0])),\\\r\n",
    "                                   str(round(all_coord[file_num][well][1])),\\\r\n",
    "                                   str(round(all_coord[file_num][well][2])),\\\r\n",
    "                                   str(round(all_coord[file_num][well][3])),\\\r\n",
    "                                  )\r\n",
    "            \r\n",
    "            target_dir = os.path.join(os.path.dirname(file_list[file_num]), 'well_videos')\r\n",
    "            base_name = os.path.splitext(os.path.basename(file_list[file_num]))[0]\r\n",
    "            target_file = os.path.join(target_dir,base_name + '_well_' + str(well+1) + '.avi')\r\n",
    "\r\n",
    "            stream = ffmpeg.output(stream, target_file, **{'c:v': 'libx264rgb'},\\\r\n",
    "                                  minrate='4000k', maxrate='4000k', preset='medium', crf=10, f='avi')\r\n",
    "            stream = ffmpeg.overwrite_output(stream)\r\n",
    "            ffmpeg.run(stream,capture_stdout=True, capture_stderr=True)\r\n",
    "        except ffmpeg.Error as e:\r\n",
    "            print('stdout:', e.stdout.decode('utf8'))\r\n",
    "            print('stderr:', e.stderr.decode('utf8'))\r\n",
    "            raise e"
   ],
   "outputs": [],
   "metadata": {}
  },
  {
   "cell_type": "code",
   "execution_count": 3,
   "source": [
    "# Import packages\r\n",
    "import numpy as np\r\n",
    "import os\r\n",
    "import argparse\r\n",
    "import multiprocessing\r\n",
    "from ffmpeg_seg_comp import run_segmentation\r\n",
    "from detect_and_export import detect_and_export\r\n",
    "\r\n",
    "# Run through the folder and get all the avi names\r\n",
    "file_list = [];\r\n",
    "for filename in os.listdir(directory):\r\n",
    "    if filename.endswith(\".avi\"): \r\n",
    "        file_list.append(os.path.join(directory, filename))\r\n",
    "        continue\r\n",
    "    else:\r\n",
    "        continue\r\n",
    "\r\n",
    "print(' ')\r\n",
    "print('Total AVI Files: ' + str(np.shape(file_list)[0]))\r\n",
    "print('###############################################')\r\n",
    "print(' ')\r\n",
    "print('Detecting Wells...')\r\n",
    "num_wells,all_coord = detect_and_export(file_list,examine_frame,min_well,max_well,min_pad,target_num_well)\r\n",
    "print(' ')\r\n",
    "print('CHECK WELL-DETECTION OUTPUT TO COMFIRM')\r\n",
    "print('###############################################')\r\n",
    "\r\n",
    "# Segment Wells and export as avi\r\n",
    "target_dir = os.path.join(os.path.dirname(file_list[0]), 'well_videos')\r\n",
    "os.mkdir(target_dir)\r\n",
    "jobs = []\r\n",
    "for file_num in np.arange(np.shape(all_coord)[0]):\r\n",
    "    p = multiprocessing.Process(target=run_segmentation, args=(file_list,file_num,all_coord,num_wells))\r\n",
    "    jobs.append(p)\r\n",
    "    p.start()"
   ],
   "outputs": [
    {
     "output_type": "stream",
     "name": "stdout",
     "text": [
      " \n",
      "Total AVI Files: 3\n",
      "###############################################\n",
      " \n",
      "Detecting Wells...\n",
      "File #1 ; Number of wells detected: 16\n",
      "File #2 ; Number of wells detected: 16\n",
      "File #3 ; Number of wells detected: 16\n",
      " \n",
      "CHECK WELL-DETECTION OUTPUT TO COMFIRM\n",
      "###############################################\n"
     ]
    },
    {
     "output_type": "error",
     "ename": "FileExistsError",
     "evalue": "[WinError 183] Cannot create a file when that file already exists: 'C:\\\\JA_test\\\\16_well\\\\well_videos'",
     "traceback": [
      "\u001b[1;31m---------------------------------------------------------------------------\u001b[0m",
      "\u001b[1;31mFileExistsError\u001b[0m                           Traceback (most recent call last)",
      "\u001b[1;32m<ipython-input-3-936145358650>\u001b[0m in \u001b[0;36m<module>\u001b[1;34m\u001b[0m\n\u001b[0;32m     28\u001b[0m \u001b[1;31m# Segment Wells and export as avi\u001b[0m\u001b[1;33m\u001b[0m\u001b[1;33m\u001b[0m\u001b[1;33m\u001b[0m\u001b[0m\n\u001b[0;32m     29\u001b[0m \u001b[0mtarget_dir\u001b[0m \u001b[1;33m=\u001b[0m \u001b[0mos\u001b[0m\u001b[1;33m.\u001b[0m\u001b[0mpath\u001b[0m\u001b[1;33m.\u001b[0m\u001b[0mjoin\u001b[0m\u001b[1;33m(\u001b[0m\u001b[0mos\u001b[0m\u001b[1;33m.\u001b[0m\u001b[0mpath\u001b[0m\u001b[1;33m.\u001b[0m\u001b[0mdirname\u001b[0m\u001b[1;33m(\u001b[0m\u001b[0mfile_list\u001b[0m\u001b[1;33m[\u001b[0m\u001b[1;36m0\u001b[0m\u001b[1;33m]\u001b[0m\u001b[1;33m)\u001b[0m\u001b[1;33m,\u001b[0m \u001b[1;34m'well_videos'\u001b[0m\u001b[1;33m)\u001b[0m\u001b[1;33m\u001b[0m\u001b[1;33m\u001b[0m\u001b[0m\n\u001b[1;32m---> 30\u001b[1;33m \u001b[0mos\u001b[0m\u001b[1;33m.\u001b[0m\u001b[0mmkdir\u001b[0m\u001b[1;33m(\u001b[0m\u001b[0mtarget_dir\u001b[0m\u001b[1;33m)\u001b[0m\u001b[1;33m\u001b[0m\u001b[1;33m\u001b[0m\u001b[0m\n\u001b[0m\u001b[0;32m     31\u001b[0m \u001b[0mjobs\u001b[0m \u001b[1;33m=\u001b[0m \u001b[1;33m[\u001b[0m\u001b[1;33m]\u001b[0m\u001b[1;33m\u001b[0m\u001b[1;33m\u001b[0m\u001b[0m\n\u001b[0;32m     32\u001b[0m \u001b[1;32mfor\u001b[0m \u001b[0mfile_num\u001b[0m \u001b[1;32min\u001b[0m \u001b[0mnp\u001b[0m\u001b[1;33m.\u001b[0m\u001b[0marange\u001b[0m\u001b[1;33m(\u001b[0m\u001b[0mnp\u001b[0m\u001b[1;33m.\u001b[0m\u001b[0mshape\u001b[0m\u001b[1;33m(\u001b[0m\u001b[0mall_coord\u001b[0m\u001b[1;33m)\u001b[0m\u001b[1;33m[\u001b[0m\u001b[1;36m0\u001b[0m\u001b[1;33m]\u001b[0m\u001b[1;33m)\u001b[0m\u001b[1;33m:\u001b[0m\u001b[1;33m\u001b[0m\u001b[1;33m\u001b[0m\u001b[0m\n",
      "\u001b[1;31mFileExistsError\u001b[0m: [WinError 183] Cannot create a file when that file already exists: 'C:\\\\JA_test\\\\16_well\\\\well_videos'"
     ]
    }
   ],
   "metadata": {}
  },
  {
   "cell_type": "code",
   "execution_count": 7,
   "source": [
    "num_wells = []\r\n",
    "all_coord =[]\r\n",
    "for video in np.arange(np.shape(file_list)[0]):\r\n",
    "    cap = cv2.VideoCapture(file_list[video])\r\n",
    "    cap.set(1,examine_frame)\r\n",
    "    ret, frame = cap.read()\r\n",
    "    img = cv2.cvtColor(frame, cv2.COLOR_BGR2GRAY)\r\n",
    "    circles = cv2.HoughCircles(img,cv2.HOUGH_GRADIENT,1,20,\r\n",
    "                            param1=50,param2=30,minRadius=min_well,maxRadius=max_well)\r\n",
    "    circles = np.uint16(np.around(circles))\r\n",
    "    num_wells.append(np.shape(circles[0,:,0]))\r\n",
    "    print('File #' + str(video+1) + ' ; Number of wells detected: ' + str(num_wells[video][0]))\r\n",
    "    # sorted_circles = order_coordinates(target_num_well,circles)\r\n",
    "\r\n",
    "    well_order = np.arange(target_num_well).reshape(int(np.sqrt(target_num_well)),int(np.sqrt(target_num_well)))\r\n",
    "    row_idx = np.argsort(circles[0][:,0])\r\n",
    "    sorted_row_coord = circles[0][row_idx]\r\n",
    "\r\n",
    "    col_idx = []\r\n",
    "    all_sorted_coord = np.zeros((target_num_well,4))\r\n",
    "    for i, value in enumerate(np.arange(0,np.sqrt(target_num_well))):  # Loops thru each row (0-3)\r\n",
    "        col_idx_temp = np.argsort(sorted_row_coord[well_order[i],1]) + i*np.sqrt(target_num_well) # At that row, grab the x-values, and sorts them as an idx and adds row value \r\n",
    "        col_idx.append(col_idx_temp)\r\n",
    "    col_idx = np.reshape(col_idx,(1,target_num_well))[0]\r\n",
    "    sorted_circles = sorted_row_coord[col_idx.astype(int)]\r\n",
    "\r\n",
    "    for idx,i in enumerate(sorted_circles):\r\n",
    "        cv2.circle(frame,(i[0],i[1]),i[2],(0,255,0),2)\r\n",
    "        cv2.circle(frame,(i[0],i[1]),2,(0,0,255),3)\r\n",
    "        cv2.putText(frame,'Well: ' +str(idx+1), (i[0]-40,i[1]), cv2.FONT_HERSHEY_SIMPLEX, 0.8, (0,255,0))\r\n",
    "    img_out_name = os.path.splitext(file_list[video])[0] + '_well_detection.jpg'\r\n",
    "    cv2.imwrite(img_out_name, frame)\r\n",
    "    if num_wells[video][0] > target_num_well:\r\n",
    "        sys.exit(\"Too Many Wells detected! Check Pixel Range for well-detection!\")\r\n",
    "    if num_wells[video][0] < target_num_well:\r\n",
    "        sys.exit(\"No Enough Wells detected! Check Pixel Range for well-detection!\")\r\n",
    "    coord_lines = np.zeros((num_wells[video][0],4))\r\n",
    "\r\n",
    "    for well in range(num_wells[video][0]):\r\n",
    "        coord_lines[well][0] = (max(sorted_circles[:,2])+min_pad)*2 # Width\r\n",
    "        coord_lines[well][1] = (max(sorted_circles[:,2])+min_pad)*2 # Height\r\n",
    "        coord_lines[well][2] = sorted_circles[well][0]-(max(sorted_circles[:,2])+min_pad) # Top left X\r\n",
    "        coord_lines[well][3] = sorted_circles[well][1]-(max(sorted_circles[:,2])+min_pad) # Top left Y  \r\n",
    "    all_coord.append(coord_lines)"
   ],
   "outputs": [
    {
     "output_type": "stream",
     "name": "stdout",
     "text": [
      "File #1 ; Number of wells detected: 16\n"
     ]
    },
    {
     "output_type": "error",
     "ename": "TypeError",
     "evalue": "unsupported operand type(s) for -: 'list' and 'int'",
     "traceback": [
      "\u001b[1;31m---------------------------------------------------------------------------\u001b[0m",
      "\u001b[1;31mTypeError\u001b[0m                                 Traceback (most recent call last)",
      "\u001b[1;32m<ipython-input-7-91a265076365>\u001b[0m in \u001b[0;36m<module>\u001b[1;34m\u001b[0m\n\u001b[0;32m     13\u001b[0m     \u001b[1;31m# sorted_circles = order_coordinates(target_num_well,circles)\u001b[0m\u001b[1;33m\u001b[0m\u001b[1;33m\u001b[0m\u001b[1;33m\u001b[0m\u001b[0m\n\u001b[0;32m     14\u001b[0m \u001b[1;33m\u001b[0m\u001b[0m\n\u001b[1;32m---> 15\u001b[1;33m     \u001b[0mwell_order\u001b[0m \u001b[1;33m=\u001b[0m \u001b[0mnp\u001b[0m\u001b[1;33m.\u001b[0m\u001b[0marange\u001b[0m\u001b[1;33m(\u001b[0m\u001b[0mnum_wells\u001b[0m\u001b[1;33m)\u001b[0m\u001b[1;33m.\u001b[0m\u001b[0mreshape\u001b[0m\u001b[1;33m(\u001b[0m\u001b[0mint\u001b[0m\u001b[1;33m(\u001b[0m\u001b[0mnp\u001b[0m\u001b[1;33m.\u001b[0m\u001b[0msqrt\u001b[0m\u001b[1;33m(\u001b[0m\u001b[0mnum_wells\u001b[0m\u001b[1;33m)\u001b[0m\u001b[1;33m)\u001b[0m\u001b[1;33m,\u001b[0m\u001b[0mint\u001b[0m\u001b[1;33m(\u001b[0m\u001b[0mnp\u001b[0m\u001b[1;33m.\u001b[0m\u001b[0msqrt\u001b[0m\u001b[1;33m(\u001b[0m\u001b[0mnum_wells\u001b[0m\u001b[1;33m)\u001b[0m\u001b[1;33m)\u001b[0m\u001b[1;33m)\u001b[0m\u001b[1;33m\u001b[0m\u001b[1;33m\u001b[0m\u001b[0m\n\u001b[0m\u001b[0;32m     16\u001b[0m     \u001b[0mrow_idx\u001b[0m \u001b[1;33m=\u001b[0m \u001b[0mnp\u001b[0m\u001b[1;33m.\u001b[0m\u001b[0margsort\u001b[0m\u001b[1;33m(\u001b[0m\u001b[0mcircles\u001b[0m\u001b[1;33m[\u001b[0m\u001b[1;36m0\u001b[0m\u001b[1;33m]\u001b[0m\u001b[1;33m[\u001b[0m\u001b[1;33m:\u001b[0m\u001b[1;33m,\u001b[0m\u001b[1;36m0\u001b[0m\u001b[1;33m]\u001b[0m\u001b[1;33m)\u001b[0m\u001b[1;33m\u001b[0m\u001b[1;33m\u001b[0m\u001b[0m\n\u001b[0;32m     17\u001b[0m     \u001b[0msorted_row_coord\u001b[0m \u001b[1;33m=\u001b[0m \u001b[0mcircles\u001b[0m\u001b[1;33m[\u001b[0m\u001b[1;36m0\u001b[0m\u001b[1;33m]\u001b[0m\u001b[1;33m[\u001b[0m\u001b[0mrow_idx\u001b[0m\u001b[1;33m]\u001b[0m\u001b[1;33m\u001b[0m\u001b[1;33m\u001b[0m\u001b[0m\n",
      "\u001b[1;31mTypeError\u001b[0m: unsupported operand type(s) for -: 'list' and 'int'"
     ]
    }
   ],
   "metadata": {}
  }
 ],
 "metadata": {
  "orig_nbformat": 4,
  "language_info": {
   "name": "python",
   "version": "3.8.5",
   "mimetype": "text/x-python",
   "codemirror_mode": {
    "name": "ipython",
    "version": 3
   },
   "pygments_lexer": "ipython3",
   "nbconvert_exporter": "python",
   "file_extension": ".py"
  },
  "kernelspec": {
   "name": "python3",
   "display_name": "Python 3.8.5 64-bit ('base': conda)"
  },
  "interpreter": {
   "hash": "6989b14733ddae6063be8137f84fbc90de983bb2102054ea067de5396aa62785"
  }
 },
 "nbformat": 4,
 "nbformat_minor": 2
}